{
  "nbformat": 4,
  "nbformat_minor": 0,
  "metadata": {
    "colab": {
      "name": "basic-connection-gcs.ipynb",
      "provenance": [],
      "collapsed_sections": []
    },
    "kernelspec": {
      "name": "python3",
      "display_name": "Python 3"
    },
    "language_info": {
      "name": "python"
    }
  },
  "cells": [
    {
      "cell_type": "code",
      "execution_count": null,
      "metadata": {
        "id": "7aY7TSsSbEH6"
      },
      "outputs": [],
      "source": [
        "#Importação das Bibliotecas utilizadas no notebook\n",
        "import pandas as pd"
      ]
    },
    {
      "cell_type": "code",
      "source": [
        "from google.colab import auth\n",
        "auth.authenticate_user()"
      ],
      "metadata": {
        "id": "8E0XCuTyhM8Y"
      },
      "execution_count": null,
      "outputs": []
    },
    {
      "cell_type": "code",
      "source": [
        "project_id = 'amiable-port-343414'\n",
        "!gcloud config set project {project_id}\n",
        "!gsutil ls"
      ],
      "metadata": {
        "id": "3l7zR-pvpNBb"
      },
      "execution_count": null,
      "outputs": []
    },
    {
      "cell_type": "code",
      "source": [
        "!gsutil -m cp -r gs://bucket-diabetes/ /content"
      ],
      "metadata": {
        "id": "zLyz9etYq9nJ"
      },
      "execution_count": null,
      "outputs": []
    },
    {
      "cell_type": "code",
      "source": [
        "df = pd.read_parquet('/content/bucket-diabetes/diabetes_012_health_indicators_BRFSS2015.parquet', engine='pyarrow')\n"
      ],
      "metadata": {
        "id": "6W7-JBwXkh17"
      },
      "execution_count": null,
      "outputs": []
    },
    {
      "cell_type": "code",
      "source": [
        "#Importando os dados já modificando o data type de algumas colunas. IMPORTANTE!! Otimiza o tamanho do arquivo.\n",
        "#data = \"https://raw.githubusercontent.com/datasciencedojo/datasets/master/titanic.csv\"\n",
        "#df = pd.read_csv(data,  dtype = {\"Embarked\" : \"category\", \"Survived\": \"category\", \"Parch\": \"int32\"})"
      ],
      "metadata": {
        "id": "L_xvvZHIau89"
      },
      "execution_count": null,
      "outputs": []
    },
    {
      "cell_type": "code",
      "source": [
        "#Exibir todo o dataframe df\n",
        "df"
      ],
      "metadata": {
        "id": "4EcqPvKabFV0"
      },
      "execution_count": null,
      "outputs": []
    },
    {
      "cell_type": "code",
      "source": [
        "#Teste: dados apenas com idade maior que 20\n",
        "df[df.Age > 20]"
      ],
      "metadata": {
        "id": "ld6hswC-d0rG"
      },
      "execution_count": null,
      "outputs": []
    },
    {
      "cell_type": "code",
      "source": [
        "#Verificar valores nulos\n",
        "df.isnull().sum()"
      ],
      "metadata": {
        "id": "dp317NkKek81"
      },
      "execution_count": null,
      "outputs": []
    },
    {
      "cell_type": "code",
      "source": [
        ""
      ],
      "metadata": {
        "id": "5GaZmp49ayeh"
      },
      "execution_count": null,
      "outputs": []
    }
  ]
}