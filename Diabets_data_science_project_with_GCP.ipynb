{
  "nbformat": 4,
  "nbformat_minor": 0,
  "metadata": {
    "colab": {
      "name": "Diabets - data science project with GCP",
      "provenance": [],
      "collapsed_sections": []
    },
    "kernelspec": {
      "name": "python3",
      "display_name": "Python 3"
    },
    "language_info": {
      "name": "python"
    }
  },
  "cells": [
    {
      "cell_type": "markdown",
      "source": [
        "**Carregar as bibliotecas necessárias**"
      ],
      "metadata": {
        "id": "tyKaX_KAHRLh"
      }
    },
    {
      "cell_type": "code",
      "execution_count": null,
      "metadata": {
        "id": "7aY7TSsSbEH6"
      },
      "outputs": [],
      "source": [
        "#Importar bibliotecas\n",
        "import numpy as np\n",
        "import pandas as pd\n",
        "import matplotlib.pyplot as plt\n",
        "import seaborn as sns"
      ]
    },
    {
      "cell_type": "code",
      "source": [
        "#Autenticar no google\n",
        "from google.colab import auth\n",
        "auth.authenticate_user()"
      ],
      "metadata": {
        "id": "8E0XCuTyhM8Y"
      },
      "execution_count": null,
      "outputs": []
    },
    {
      "cell_type": "markdown",
      "source": [
        "**Conectar o Google Cloud Platform**"
      ],
      "metadata": {
        "id": "l7wPQlOYIUAL"
      }
    },
    {
      "cell_type": "code",
      "source": [
        "project_id = 'amiable-port-343414'\n",
        "!gcloud config set project {project_id}\n",
        "!gsutil ls"
      ],
      "metadata": {
        "id": "3l7zR-pvpNBb"
      },
      "execution_count": null,
      "outputs": []
    },
    {
      "cell_type": "markdown",
      "source": [
        "**Listar os arquivos que estao no bucket-diabetes do GCP**\n"
      ],
      "metadata": {
        "id": "3M81hC0umeDy"
      }
    },
    {
      "cell_type": "code",
      "source": [
        "!gsutil ls gs://bucket-diabetes/ "
      ],
      "metadata": {
        "id": "ultWYV7vmWcm"
      },
      "execution_count": null,
      "outputs": []
    },
    {
      "cell_type": "markdown",
      "source": [
        "**Copiar os dados do bucket do GCP para o Google Colab**"
      ],
      "metadata": {
        "id": "7aDkFAQ9IvGM"
      }
    },
    {
      "cell_type": "code",
      "source": [
        "!gsutil -m cp -r gs://bucket-diabetes/ /content"
      ],
      "metadata": {
        "id": "zLyz9etYq9nJ"
      },
      "execution_count": null,
      "outputs": []
    },
    {
      "cell_type": "markdown",
      "source": [
        "**Carregar o dataset em formato parquet**"
      ],
      "metadata": {
        "id": "Z8nC4uU1InX_"
      }
    },
    {
      "cell_type": "code",
      "source": [
        "df_diabetes = pd.read_parquet('/content/bucket-diabetes/diabetes_012_health_indicators_BRFSS2015.parquet', engine='pyarrow')"
      ],
      "metadata": {
        "id": "6W7-JBwXkh17"
      },
      "execution_count": null,
      "outputs": []
    },
    {
      "cell_type": "markdown",
      "source": [
        "**Configurar o pandas para mostrar todas as colunas do dataset**"
      ],
      "metadata": {
        "id": "JEBz8yD0Js-S"
      }
    },
    {
      "cell_type": "code",
      "source": [
        "#Setar o pandas para mostrar todas as colunas\n",
        "pd.set_option('display.max_columns', None)\n",
        "print(\"Numero de linhas maximo foi configurado para podermos ver todas as colunas do dataset\")"
      ],
      "metadata": {
        "id": "iy5PNkF-JZu0"
      },
      "execution_count": null,
      "outputs": []
    },
    {
      "cell_type": "code",
      "source": [
        "#Importando os dados já modificando o data type de algumas colunas. IMPORTANTE!! Otimiza o tamanho do arquivo.\n",
        "#data = \"https://raw.githubusercontent.com/datasciencedojo/datasets/master/titanic.csv\"\n",
        "#df = pd.read_csv(data,  dtype = {\"Embarked\" : \"category\", \"Survived\": \"category\", \"Parch\": \"int32\"})"
      ],
      "metadata": {
        "id": "L_xvvZHIau89"
      },
      "execution_count": null,
      "outputs": []
    },
    {
      "cell_type": "markdown",
      "source": [
        "**Visualizar os 5 primeiros registos**"
      ],
      "metadata": {
        "id": "yM-qN12DJzrs"
      }
    },
    {
      "cell_type": "code",
      "source": [
        "#Exibir todo o dataframe df\n",
        "df_diabetes.head()"
      ],
      "metadata": {
        "id": "4EcqPvKabFV0"
      },
      "execution_count": null,
      "outputs": []
    },
    {
      "cell_type": "markdown",
      "source": [
        "# **Análise Exploratória dos Dados**"
      ],
      "metadata": {
        "id": "mKvS-iLmpbxQ"
      }
    },
    {
      "cell_type": "markdown",
      "source": [
        "**Perguntas sobre os dados**\n",
        "1. Qual e a correlação entre variáveis preditoras e a variável alvo?\n",
        "2. Qual e a distribuição de entrevistados por classe?\n",
        "3. Será que a distribuição (intervalo de valores) das variáveis índice de massa corporal, idade, nível de pressão arterial, nível de colesterol e igual em cada uma das classes?\n",
        "4. Quais os factores que influenciam na obtenção de diabetes?\n",
        "\n",
        "\n"
      ],
      "metadata": {
        "id": "54CqL9GDp2zB"
      }
    },
    {
      "cell_type": "markdown",
      "source": [
        "**Verificar o formato do dataset**"
      ],
      "metadata": {
        "id": "bAqHkGoTq-Bs"
      }
    },
    {
      "cell_type": "code",
      "source": [
        "df_diabetes.shape"
      ],
      "metadata": {
        "id": "ld6hswC-d0rG"
      },
      "execution_count": null,
      "outputs": []
    },
    {
      "cell_type": "markdown",
      "source": [
        "**Visualizar os dados e tipos de dados do dataset**"
      ],
      "metadata": {
        "id": "KdOXKtkqrGfl"
      }
    },
    {
      "cell_type": "code",
      "source": [
        "df_diabetes.info()"
      ],
      "metadata": {
        "id": "dp317NkKek81"
      },
      "execution_count": null,
      "outputs": []
    },
    {
      "cell_type": "markdown",
      "source": [
        "**Alterar o tipo de dados do dataset**"
      ],
      "metadata": {
        "id": "CORti73WrRoe"
      }
    },
    {
      "cell_type": "code",
      "source": [
        "#Alterar o tipo de dados do dataset \n",
        "df_diabetes['HighBP']=df_diabetes['HighBP'].astype('int8')\n",
        "df_diabetes['HighChol']=df_diabetes['HighChol'].astype('int8')\n",
        "df_diabetes['CholCheck']=df_diabetes['CholCheck'].astype('int8')\n",
        "df_diabetes['Smoker']=df_diabetes['Smoker'].astype('int8')\n",
        "df_diabetes['Stroke']=df_diabetes['Stroke'].astype('int8')\n",
        "df_diabetes['HeartDiseaseorAttack']=df_diabetes['HeartDiseaseorAttack'].astype('int8')\n",
        "df_diabetes['PhysActivity']=df_diabetes['PhysActivity'].astype('int8')\n",
        "df_diabetes['Fruits']=df_diabetes['Fruits'].astype('int8')\n",
        "df_diabetes['Veggies']=df_diabetes['Veggies'].astype('int8')                \n",
        "df_diabetes['HvyAlcoholConsump']=df_diabetes['HvyAlcoholConsump'].astype('int8')\n",
        "df_diabetes['NoDocbcCost']=df_diabetes['NoDocbcCost'].astype('int8')\n",
        "df_diabetes['GenHlth']=df_diabetes['GenHlth'].astype('int8')\n",
        "df_diabetes['MentHlth']=df_diabetes['MentHlth'].astype('int8')\n",
        "df_diabetes['DiffWalk']=df_diabetes['DiffWalk'].astype('int8')\n",
        "df_diabetes['Sex']=df_diabetes['Sex'].astype('int8')\n",
        "df_diabetes['Education']=df_diabetes['Education'].astype('int8')\n",
        "df_diabetes['Income']=df_diabetes['Income'].astype('int8')\n",
        "df_diabetes['AnyHealthcare']=df_diabetes['AnyHealthcare'].astype('int8')\n",
        "df_diabetes['Age']=df_diabetes['Age'].astype('int8')\n",
        "df_diabetes['PhysHlth']=df_diabetes['PhysHlth'].astype('int8')\n",
        "df_diabetes['Diabetes_012']=df_diabetes['Diabetes_012'].astype('int8')\n",
        "\n",
        "#df_diabetes = df_diabetes.astype('int8').dtypes"
      ],
      "metadata": {
        "id": "5GaZmp49ayeh"
      },
      "execution_count": null,
      "outputs": []
    },
    {
      "cell_type": "markdown",
      "source": [
        "**Análise Estatistica Basica do dataset**"
      ],
      "metadata": {
        "id": "qlKBPJwPrdwQ"
      }
    },
    {
      "cell_type": "code",
      "source": [
        "df_diabetes.describe()"
      ],
      "metadata": {
        "id": "xTvMHYhqrgP0"
      },
      "execution_count": null,
      "outputs": []
    },
    {
      "cell_type": "markdown",
      "source": [
        "**Resumo:**\n",
        "* Em médias os entrevistados têm um **índice de massa corporal (BMI)** de **28.68**\n",
        "* Quase **metade** das pessoas entrevistadas fumam e comem fruta.\n",
        "* **73.34 %** das pessoas entrevistadas praticam **actividades físicas** \t\n",
        "* **79.48 %** das pessoas entrevistadas comem **vegetais**\n",
        "* **Quase ninguem** consume álcool de altas proporçoes (adult men having more than 14 drinks per week and adult women having more than 7 drinks per week).\t\n",
        "* **94%** das pessoas entrevistadas usaram algum **plano e/ou seguro** de saúde\n",
        "\n"
      ],
      "metadata": {
        "id": "B7dlHdu4rl40"
      }
    },
    {
      "cell_type": "markdown",
      "source": [
        "**Verificar se existem registos em falta (em percentagem) no dataset**"
      ],
      "metadata": {
        "id": "yUbnm3BUrq06"
      }
    },
    {
      "cell_type": "code",
      "source": [
        "nulos=(df_diabetes.isnull().sum()/df_diabetes.shape[0])*100\n",
        "nulos[nulos>0]"
      ],
      "metadata": {
        "id": "ZtFPAO1Nrp9g"
      },
      "execution_count": null,
      "outputs": []
    },
    {
      "cell_type": "markdown",
      "source": [
        "**Resumo:**\n",
        "* Não existem valores faltantes."
      ],
      "metadata": {
        "id": "zR3sZAVMrxJh"
      }
    },
    {
      "cell_type": "markdown",
      "source": [
        "**Verificar valores unicos**"
      ],
      "metadata": {
        "id": "Ks1Y-dShr3s0"
      }
    },
    {
      "cell_type": "code",
      "source": [
        "for col in df_diabetes.columns:\n",
        "    print(col,':', df_diabetes[col].unique(),'\\n')"
      ],
      "metadata": {
        "id": "wt10L0z5rzqs"
      },
      "execution_count": null,
      "outputs": []
    },
    {
      "cell_type": "markdown",
      "source": [
        "**Resumo:**\n",
        "\n",
        "As colunas categoricas **MentHlth e PhysHlth** possuem **alta cardinalidade**."
      ],
      "metadata": {
        "id": "vpEf97PnsCiq"
      }
    },
    {
      "cell_type": "markdown",
      "source": [
        "# **Extraindo Insights a partir dos dados (Visualização de Dados)**"
      ],
      "metadata": {
        "id": "vp79exu5sIkb"
      }
    },
    {
      "cell_type": "markdown",
      "source": [
        "**Analisar a Distribuição dos dados**"
      ],
      "metadata": {
        "id": "q4043TgLqQsv"
      }
    },
    {
      "cell_type": "code",
      "source": [
        "\n",
        "f,ax=plt.subplots(nrows=2,ncols=4,figsize=(30,5));\n",
        "\n",
        "\n",
        "sns.kdeplot(data=df_diabetes,x='BMI',ax=ax[0,0]);\n",
        "#ax[0,0].set(title='BMI')\n",
        "sns.histplot(data=df_diabetes,x='Age',ax=ax[0,1],hue='Diabetes_012');\n",
        "#ax[0,1].set(title='Age')\n",
        "sns.histplot(data=df_diabetes,x='GenHlth',ax=ax[0,2]);\n",
        "#ax[0,2].set(title='GenHlth')\n",
        "sns.kdeplot(data=df_diabetes,x='MentHlth',ax=ax[0,3]);\n",
        "#ax[0,3].set(title='MentHlth')\n",
        "sns.kdeplot(data=df_diabetes,x='PhysHlth',ax=ax[1,0]);\n",
        "#ax[1,0].set(title='PhysHlth')\n",
        "sns.histplot(data=df_diabetes,x='Education',ax=ax[1,1]);\n",
        "#ax[1,1].set(title='Education')\n",
        "sns.histplot(data=df_diabetes,x='Income',ax=ax[1,2]);\n",
        "#ax[1,2].set(title='Income')\n",
        "\n",
        "plt.tight_layout()\n",
        "plt.show()"
      ],
      "metadata": {
        "id": "2HC0nQh-qX70"
      },
      "execution_count": null,
      "outputs": []
    },
    {
      "cell_type": "markdown",
      "source": [
        "**1. Qual e a correlação entre variáveis preditoras e a variável alvo?**"
      ],
      "metadata": {
        "id": "o2Pf_xnMqVG3"
      }
    },
    {
      "cell_type": "code",
      "source": [
        "plt.figure(figsize=(20,8))\n",
        "sns.heatmap(df_diabetes.corr(),cmap='PuOr',annot=True)\n",
        "plt.show()"
      ],
      "metadata": {
        "id": "TvXSYChav4fe"
      },
      "execution_count": null,
      "outputs": []
    },
    {
      "cell_type": "markdown",
      "source": [
        "**Resumo:**\n",
        "\n",
        "*   A maioria das variáveis possuem uma **correlação fraca** entre elas exceptuando a variáveis **PhysHlthe GenHlth** que possuem uma **correlação media**.\n",
        "\n"
      ],
      "metadata": {
        "id": "3gNg4C8nwij7"
      }
    },
    {
      "cell_type": "markdown",
      "source": [
        "**2. Qual é a distribuição dos entrevistados por classe?**"
      ],
      "metadata": {
        "id": "W7buYS5Rp7TY"
      }
    },
    {
      "cell_type": "code",
      "source": [
        "balanceamento=round((df_diabetes['Diabetes_012'].value_counts()/df_diabetes['Diabetes_012'].shape[0])*100,2)\n",
        "\n",
        "balanceamento.index=balanceamento.index.map({0:'Sem Diabetes',1: 'Pré-Diabetes',2:'Diabetes'})\n",
        "\n",
        "balanceamento=balanceamento.to_frame().reset_index()\n",
        "\n",
        "balanceamento.rename(columns={'index':'Tipo','Diabetes_012':'%'},inplace=True)\n",
        "\n",
        "balanceamento"
      ],
      "metadata": {
        "id": "3zKYY7mWgKAl"
      },
      "execution_count": null,
      "outputs": []
    },
    {
      "cell_type": "code",
      "source": [
        "plt.figure(figsize=(20,6))\n",
        "colors=sns.color_palette('bright')[0:3]\n",
        "plt.pie(balanceamento['%'],labels=balanceamento['Tipo'],colors=colors,autopct='%.0f%%')\n",
        "plt.show()"
      ],
      "metadata": {
        "id": "I9dJrWR7nHeS"
      },
      "execution_count": null,
      "outputs": []
    },
    {
      "cell_type": "markdown",
      "source": [
        "**Resumo:**\n",
        "\n",
        "*   **83%** dos entrevistados **não tem diabetes**.\n",
        "\n"
      ],
      "metadata": {
        "id": "kUEMpOjRzzpW"
      }
    },
    {
      "cell_type": "markdown",
      "source": [
        "**Será que a distribuição das variáveis (intervalo de valores) índice de massa corporal, idade, nível de pressão arterial, nível de colesterol e igual em cada uma das classes?**"
      ],
      "metadata": {
        "id": "mgeYh2_f2rx9"
      }
    },
    {
      "cell_type": "code",
      "source": [
        "df_sem_diabetes=df_diabetes[df_diabetes['Diabetes_012']==0]\n",
        "df_pre_diabetes=df_diabetes[df_diabetes['Diabetes_012']==1]\n",
        "df_com_diabetes=df_diabetes[df_diabetes['Diabetes_012']==2]"
      ],
      "metadata": {
        "id": "xJwHajcr4z4y"
      },
      "execution_count": null,
      "outputs": []
    },
    {
      "cell_type": "markdown",
      "source": [
        "**Comparativo do índice de massa corporal (IMC ou em inglês BMI)**"
      ],
      "metadata": {
        "id": "WiUhXonZ202w"
      }
    },
    {
      "cell_type": "code",
      "source": [
        "fig, ax=plt.subplots(1,3,sharex=True,figsize=(20,6))\n",
        "\n",
        "sns.histplot(ax=ax[0],data=df_sem_diabetes,x='BMI',kde=True,binwidth=5)\n",
        "ax[0].set(title='Pessoas sem diabetes',yticklabels=[],ylabel=None)\n",
        "\n",
        "sns.histplot(ax=ax[1],data=df_pre_diabetes,x='BMI',kde=True,binwidth=5)\n",
        "ax[1].set(title='Pessoas pre diabetes',yticklabels=[],ylabel=None)\n",
        "\n",
        "sns.histplot(ax=ax[2],data=df_com_diabetes,x='BMI',kde=True,binwidth=5)\n",
        "ax[2].set(title='Pessoas com diabetes',yticklabels=[],ylabel=None)\n",
        "\n",
        "plt.xlim(10,85)\n",
        "plt.show()"
      ],
      "metadata": {
        "id": "AJDXTLuW2uqS"
      },
      "execution_count": null,
      "outputs": []
    },
    {
      "cell_type": "markdown",
      "source": [
        "**Resumo:**\n",
        "\n",
        "O índice de massa corporal tem o mesmo conjunto de valores para as 3 classes envolvidas."
      ],
      "metadata": {
        "id": "HJB7uQVX4erg"
      }
    },
    {
      "cell_type": "markdown",
      "source": [
        "**Comparativo da Idade**"
      ],
      "metadata": {
        "id": "6ENxj-zL47xe"
      }
    },
    {
      "cell_type": "code",
      "source": [
        "fig, ax=plt.subplots(1,3,sharex=True,figsize=(20,6))\n",
        "\n",
        "sns.histplot(ax=ax[0],data=df_sem_diabetes,x='Age',kde=False,binwidth=1)\n",
        "ax[0].set(title='Pessoas sem diabetes')\n",
        "\n",
        "sns.histplot(ax=ax[1],data=df_pre_diabetes,x='Age',kde=False,binwidth=1)\n",
        "ax[1].set(title='Pessoas pre diabetes')\n",
        "\n",
        "sns.histplot(ax=ax[2],data=df_com_diabetes,x='Age',kde=False,binwidth=1)\n",
        "ax[2].set(title='Pessoas com diabetes')\n",
        "\n",
        "plt.xlim(1,13)\n",
        "plt.show()"
      ],
      "metadata": {
        "id": "oH8bY0G_5Asa"
      },
      "execution_count": null,
      "outputs": []
    },
    {
      "cell_type": "markdown",
      "source": [
        "**Resumo:**\n",
        "\n",
        "* A maior parte das pessoas com **pre-diabetes e diabetes** estao em idade \n",
        "pertencentes a **categoria 6 em diante**.\n",
        "* Nao obstante, nao chegamos a nenhuma conclusao de grau de iobtencao de diabetes em funcao da idade."
      ],
      "metadata": {
        "id": "5K8nbGkf6dOA"
      }
    },
    {
      "cell_type": "markdown",
      "source": [
        "**Comparativo de pressao arterial (HighBP)**\n"
      ],
      "metadata": {
        "id": "YMTahYNh8FTU"
      }
    },
    {
      "cell_type": "markdown",
      "source": [
        "**Concatenar os dataframes**"
      ],
      "metadata": {
        "id": "MZDBoGHfQdkn"
      }
    },
    {
      "cell_type": "code",
      "source": [
        "#Concatenar os 3 dataframes\n",
        "BP_porc_por_classe=pd.concat([pd.DataFrame((df_sem_diabetes.HighBP.value_counts()/df_sem_diabetes.shape[0])*100).rename(columns={'HighBP':'Sem Diabetes'}),\n",
        "pd.DataFrame((df_pre_diabetes.HighBP.value_counts()/df_pre_diabetes.shape[0])*100).rename(columns={'HighBP':'Pre-Diabetes'}),\n",
        "pd.DataFrame((df_com_diabetes.HighBP.value_counts()/df_com_diabetes.shape[0])*100).rename(columns={'HighBP':'Diabetes'})],axis=1)\n",
        "\n",
        "#renomear as linhas do dataframe\n",
        "BP_porc_por_classe=BP_porc_por_classe.T.rename(columns={0:'Low BP',1:'High BP'})\n",
        "BP_porc_por_classe=BP_porc_por_classe.T\n",
        "\n",
        "BP_porc_por_classe"
      ],
      "metadata": {
        "id": "u6knbaBiPNkk"
      },
      "execution_count": null,
      "outputs": []
    },
    {
      "cell_type": "code",
      "source": [
        "#Grafico de barras stacked\n",
        "BP_porc_por_classe.plot(kind='bar', stacked=True, color=['darkgreen', 'lightgreen','red']);\n"
      ],
      "metadata": {
        "id": "Yu9mQ6l48QRG"
      },
      "execution_count": null,
      "outputs": []
    },
    {
      "cell_type": "markdown",
      "source": [
        "**Resumo:**\n",
        "* A **maior parte das pessoas** com pressão arterial alta pertencem as categorias **pré-diabetes e diabetes**."
      ],
      "metadata": {
        "id": "ub6ewqMIQthe"
      }
    },
    {
      "cell_type": "markdown",
      "source": [
        "**Comparativo de Colesterol (HighChol)**"
      ],
      "metadata": {
        "id": "7niSBpGNSQXy"
      }
    },
    {
      "cell_type": "code",
      "source": [
        "#Concatenar os 3 dataframes\n",
        "Chol_porc_por_classe=pd.concat([pd.DataFrame((df_sem_diabetes.HighChol.value_counts()/df_sem_diabetes.shape[0])*100).rename(columns={'HighChol':'Sem Diabetes'}),\n",
        "pd.DataFrame((df_pre_diabetes.HighChol.value_counts()/df_pre_diabetes.shape[0])*100).rename(columns={'HighChol':'Pre-Diabetes'}),\n",
        "pd.DataFrame((df_com_diabetes.HighChol.value_counts()/df_com_diabetes.shape[0])*100).rename(columns={'HighChol':'Diabetes'})],axis=1)\n",
        "\n",
        "#renomear as linhas do dataframe\n",
        "Chol_porc_por_classe=Chol_porc_por_classe.T.rename(columns={0:'Low Chol',1:'High Chol'})\n",
        "Chol_porc_por_classe=Chol_porc_por_classe.T\n",
        "\n",
        "Chol_porc_por_classe"
      ],
      "metadata": {
        "id": "o4gwIMzRSU7l"
      },
      "execution_count": null,
      "outputs": []
    },
    {
      "cell_type": "code",
      "source": [
        "#Grafico de barras stacked\n",
        "Chol_porc_por_classe.plot(kind='bar', stacked=True, color=['darkgreen', 'lightgreen','red']);"
      ],
      "metadata": {
        "id": "j9pR_VpyVUhP"
      },
      "execution_count": null,
      "outputs": []
    },
    {
      "cell_type": "markdown",
      "source": [
        "**Resumo:**\n",
        "* A **maior parte das pessoas** com colesterol alto pertencem as categorias **pre-diabetes e diabetes**."
      ],
      "metadata": {
        "id": "zHrueJirVcu9"
      }
    },
    {
      "cell_type": "markdown",
      "source": [
        "# **Modelagem preditiva**"
      ],
      "metadata": {
        "id": "_tTNmE2YsTJU"
      }
    },
    {
      "cell_type": "markdown",
      "source": [
        "**Carregar as bibliotecas necessarias**"
      ],
      "metadata": {
        "id": "lGMuLk19sbIH"
      }
    },
    {
      "cell_type": "code",
      "source": [
        "from sklearn.model_selection import train_test_split\n",
        "from sklearn.metrics import *\n",
        "from sklearn.naive_bayes import GaussianNB"
      ],
      "metadata": {
        "id": "LRwG7qA6sWue"
      },
      "execution_count": null,
      "outputs": []
    },
    {
      "cell_type": "markdown",
      "source": [
        "**Separar os dados em treino e teste**"
      ],
      "metadata": {
        "id": "56a-LCu6sZzE"
      }
    },
    {
      "cell_type": "code",
      "source": [
        "X_train,X_test,y_train,y_test=train_test_split(df_diabetes.drop(['Diabetes_012'],axis=1),df_diabetes['Diabetes_012'],test_size=0.25,random_state=1)"
      ],
      "metadata": {
        "id": "n_vZHT1TsWlO"
      },
      "execution_count": null,
      "outputs": []
    },
    {
      "cell_type": "markdown",
      "source": [
        "**Visualizar o formato dos dados**"
      ],
      "metadata": {
        "id": "XrNcxSD2sj0G"
      }
    },
    {
      "cell_type": "code",
      "source": [
        "X_train.shape,X_test.shape"
      ],
      "metadata": {
        "id": "sub5c7WUskrg"
      },
      "execution_count": null,
      "outputs": []
    },
    {
      "cell_type": "markdown",
      "source": [
        "**Instanciar e treinar o Modelo Baseline**"
      ],
      "metadata": {
        "id": "97XmsxaJsrFN"
      }
    },
    {
      "cell_type": "code",
      "source": [
        "#Definir o modelo\n",
        "clf_nb=GaussianNB()\n",
        "clf_nb.fit(X_train,y_train)"
      ],
      "metadata": {
        "id": "z_XI2oblssrB"
      },
      "execution_count": null,
      "outputs": []
    },
    {
      "cell_type": "markdown",
      "source": [
        "**Efectuar previsões com base em dados desconhecidos**"
      ],
      "metadata": {
        "id": "lKI7az7ErWOh"
      }
    },
    {
      "cell_type": "code",
      "source": [
        "previsoes=clf_nb.predict(X_test)"
      ],
      "metadata": {
        "id": "VOMCaYk8rP2h"
      },
      "execution_count": null,
      "outputs": []
    },
    {
      "cell_type": "markdown",
      "source": [
        "**Efectar previsões usando baseline**"
      ],
      "metadata": {
        "id": "xNaUzA0Psz6x"
      }
    },
    {
      "cell_type": "code",
      "source": [
        "def avaliar_algoritmo(df_real,df_predito):\n",
        "    #Matriz de Confusao\n",
        "    #cm=confusion_matrix(y_test,previsoes)\n",
        "    cm=pd.crosstab(y_test,previsoes,rownames=['Real'],colnames=['Predito'],margins=True)\n",
        "    print('Matriz de Confusao:\\n')\n",
        "    print(cm,'\\n')\n",
        "    print('Classification Report:\\n')\n",
        "    #Avaliar o modelo base\n",
        "    print(classification_report(previsoes,y_test))"
      ],
      "metadata": {
        "id": "G6gZgYjxs1OK"
      },
      "execution_count": null,
      "outputs": []
    },
    {
      "cell_type": "code",
      "source": [
        "avaliar_algoritmo(y_test,previsoes)"
      ],
      "metadata": {
        "id": "5pCE5blZs5qI"
      },
      "execution_count": null,
      "outputs": []
    },
    {
      "cell_type": "markdown",
      "source": [
        "**Resumo:**:\n",
        "* O modelo base teve uma acurácia de **0.74** e preve a **classe 1 e 2 com uma acuracia (f1 score) inferior a 50%**."
      ],
      "metadata": {
        "id": "IwFtv8Fus_Qo"
      }
    },
    {
      "cell_type": "markdown",
      "source": [
        "**Instanciar e treinar o modelo Random Forest**"
      ],
      "metadata": {
        "id": "GBian4R-tF9r"
      }
    },
    {
      "cell_type": "code",
      "source": [
        "from sklearn.ensemble import RandomForestClassifier\n",
        "\n",
        "clf_rf=RandomForestClassifier()\n",
        "clf_rf.fit(X_train,y_train)"
      ],
      "metadata": {
        "id": "RqAjfQAEs-du"
      },
      "execution_count": null,
      "outputs": []
    },
    {
      "cell_type": "markdown",
      "source": [
        "**Efectuar previsões**"
      ],
      "metadata": {
        "id": "DafC0nLPtOlj"
      }
    },
    {
      "cell_type": "code",
      "source": [
        "previsoes=clf_rf.predict(X_test)"
      ],
      "metadata": {
        "id": "5tfpfLG3tRhy"
      },
      "execution_count": null,
      "outputs": []
    },
    {
      "cell_type": "markdown",
      "source": [
        "**Avaliar o modelo**"
      ],
      "metadata": {
        "id": "bcW3GbxotToq"
      }
    },
    {
      "cell_type": "code",
      "source": [
        "avaliar_algoritmo(y_test,previsoes)"
      ],
      "metadata": {
        "id": "eeBAvSbgtVoZ"
      },
      "execution_count": null,
      "outputs": []
    },
    {
      "cell_type": "markdown",
      "source": [
        "**Visualizar a importancia das variáveis preditoras na previsão da variável alvo**"
      ],
      "metadata": {
        "id": "beqeZ8tRtdcX"
      }
    },
    {
      "cell_type": "code",
      "source": [
        "#Variaveis que afectam o modelo (Escolher acima 3%)\n",
        "pd.DataFrame(clf_rf.feature_importances_.reshape(1,-1),columns=X_train.columns).T.sort_values(by=0,ascending=False)*100"
      ],
      "metadata": {
        "id": "dBpGK3WQtepw"
      },
      "execution_count": null,
      "outputs": []
    },
    {
      "cell_type": "code",
      "source": [
        "#plt.figure(figsize=(30,6))\n",
        "pd.DataFrame(clf_rf.feature_importances_.reshape(1,-1),columns=X_train.columns).T.sort_values(by=0,ascending=True).plot(kind='barh')\n",
        "#plt.show()"
      ],
      "metadata": {
        "id": "MD-OT5IvtlGE"
      },
      "execution_count": null,
      "outputs": []
    },
    {
      "cell_type": "markdown",
      "source": [
        "**Excluir colunas em que o grau de importancia para o modelo esta abaixo de 3%**"
      ],
      "metadata": {
        "id": "RiAGxd8ktoa6"
      }
    },
    {
      "cell_type": "code",
      "source": [
        "feature_imp=pd.DataFrame(clf_rf.feature_importances_.reshape(1,-1),columns=X_train.columns).T.sort_values(by=0,ascending=False)\n",
        "\n",
        "colunas=feature_imp[feature_imp[0]>0.03].index\n",
        "\n",
        "colunas"
      ],
      "metadata": {
        "id": "XsOno8sHtqlH"
      },
      "execution_count": null,
      "outputs": []
    },
    {
      "cell_type": "markdown",
      "source": [
        "# **Tratar Classes Desbalanceadas**"
      ],
      "metadata": {
        "id": "WGrxABDMttIP"
      }
    },
    {
      "cell_type": "markdown",
      "source": [
        "**Importar as principais técnicas de under_sampling e over_sampling**"
      ],
      "metadata": {
        "id": "jxvikDC4sdHs"
      }
    },
    {
      "cell_type": "code",
      "source": [
        "from imblearn.under_sampling import NearMiss\n",
        "from imblearn.over_sampling import SMOTE"
      ],
      "metadata": {
        "id": "NNzFsyaGtw5Z"
      },
      "execution_count": null,
      "outputs": []
    },
    {
      "cell_type": "markdown",
      "source": [
        "**Separar os dados em variáveis preditoras e variáveis alvo**"
      ],
      "metadata": {
        "id": "bT8uhgcTt0ZD"
      }
    },
    {
      "cell_type": "code",
      "source": [
        "X=df_diabetes[colunas]\n",
        "y=df_diabetes['Diabetes_012']"
      ],
      "metadata": {
        "id": "0O1UlcGetzxS"
      },
      "execution_count": null,
      "outputs": []
    },
    {
      "cell_type": "markdown",
      "source": [
        "**NearMiss**"
      ],
      "metadata": {
        "id": "TB5S-uURt50a"
      }
    },
    {
      "cell_type": "code",
      "source": [
        "#Instanciar o NearMiss\n",
        "nr=NearMiss()\n",
        "\n",
        "#Efectuar o resample\n",
        "X_near,y_near=nr.fit_resample(X,y)"
      ],
      "metadata": {
        "id": "S-fhaC84t9jp"
      },
      "execution_count": null,
      "outputs": []
    },
    {
      "cell_type": "markdown",
      "source": [
        "**Contar o numero de registos por classe**"
      ],
      "metadata": {
        "id": "zqzUhm0WuG89"
      }
    },
    {
      "cell_type": "code",
      "source": [
        "np.bincount(y_near)"
      ],
      "metadata": {
        "id": "0CbW_8OJuJA6"
      },
      "execution_count": null,
      "outputs": []
    },
    {
      "cell_type": "markdown",
      "source": [
        "**Separar os dados em treino e teste**"
      ],
      "metadata": {
        "id": "MiRlg1VquLTZ"
      }
    },
    {
      "cell_type": "code",
      "source": [
        "X_train,X_test,y_train,y_test=train_test_split(X_near,y_near,test_size=0.25)"
      ],
      "metadata": {
        "id": "Il1A4vytuNd_"
      },
      "execution_count": null,
      "outputs": []
    },
    {
      "cell_type": "markdown",
      "source": [
        "**Treinar o modelo com dados balanceados pelo NearMiss**"
      ],
      "metadata": {
        "id": "keZIjp_TuQNJ"
      }
    },
    {
      "cell_type": "code",
      "source": [
        "clf_rf.fit(X_train[colunas],y_train)"
      ],
      "metadata": {
        "id": "ZfDC8H_wuWhp"
      },
      "execution_count": null,
      "outputs": []
    },
    {
      "cell_type": "markdown",
      "source": [
        "**Prever a classe usando dados de teste**"
      ],
      "metadata": {
        "id": "5mIlKAG1uaiU"
      }
    },
    {
      "cell_type": "code",
      "source": [
        "previsoes=clf_rf.predict(X_test[colunas])"
      ],
      "metadata": {
        "id": "RfR-hA-GudQK"
      },
      "execution_count": null,
      "outputs": []
    },
    {
      "cell_type": "markdown",
      "source": [
        "**Avaliar o modelo**"
      ],
      "metadata": {
        "id": "5t80bFYUufFO"
      }
    },
    {
      "cell_type": "code",
      "source": [
        "avaliar_algoritmo(y_test,previsoes)"
      ],
      "metadata": {
        "id": "eaiNQZceuhF_"
      },
      "execution_count": null,
      "outputs": []
    },
    {
      "cell_type": "markdown",
      "source": [
        "**SMOTE**"
      ],
      "metadata": {
        "id": "E27GPABcuku5"
      }
    },
    {
      "cell_type": "markdown",
      "source": [
        "**Instanciar o smote**"
      ],
      "metadata": {
        "id": "Ac9jtNxHizDJ"
      }
    },
    {
      "cell_type": "code",
      "source": [
        "#strategic=0.5\n",
        "#sampling_strategy = {0: 190055, 1: 10000, 2: 10000}\n",
        "smt=SMOTE(random_state=1)"
      ],
      "metadata": {
        "id": "Jza5kAYEiuYR"
      },
      "execution_count": null,
      "outputs": []
    },
    {
      "cell_type": "markdown",
      "source": [
        "**Efectuar o resample**"
      ],
      "metadata": {
        "id": "3SOppuJ0i4BT"
      }
    },
    {
      "cell_type": "code",
      "source": [
        "X_over,y_over=smt.fit_resample(X,y)"
      ],
      "metadata": {
        "id": "zK5w7spYi2s8"
      },
      "execution_count": null,
      "outputs": []
    },
    {
      "cell_type": "markdown",
      "source": [
        "**Verificar se as classes estão balanceadas**"
      ],
      "metadata": {
        "id": "KI8sV2UDjL2s"
      }
    },
    {
      "cell_type": "code",
      "source": [
        "np.bincount(y_over)"
      ],
      "metadata": {
        "id": "lcZuNxzHjMev"
      },
      "execution_count": null,
      "outputs": []
    },
    {
      "cell_type": "markdown",
      "source": [
        "**Dividir os dados em treino e teste**"
      ],
      "metadata": {
        "id": "13EjQ8rHjPI-"
      }
    },
    {
      "cell_type": "code",
      "source": [
        "X_train,X_test,y_train,y_test=train_test_split(X_over,y_over,test_size=0.25,random_state=1)"
      ],
      "metadata": {
        "id": "RGDhJDXpjTHZ"
      },
      "execution_count": null,
      "outputs": []
    },
    {
      "cell_type": "markdown",
      "source": [
        "**Treinar o modelo usando as colunas com relevancia superior a 3%**"
      ],
      "metadata": {
        "id": "XPFl5JGYjZ3x"
      }
    },
    {
      "cell_type": "code",
      "source": [
        "clf_rf.fit(X_train[colunas],y_train)"
      ],
      "metadata": {
        "id": "yXWdGzlMjae9"
      },
      "execution_count": null,
      "outputs": []
    },
    {
      "cell_type": "markdown",
      "source": [
        "**Prever a classe usando as colunas com relevancia superior a 3% nos dados de teste**"
      ],
      "metadata": {
        "id": "k5cn-_akjeKd"
      }
    },
    {
      "cell_type": "code",
      "source": [
        "previsoes=clf_rf.predict(X_test[colunas])"
      ],
      "metadata": {
        "id": "JkOWRZpvjg5w"
      },
      "execution_count": null,
      "outputs": []
    },
    {
      "cell_type": "markdown",
      "source": [
        "**Avaliar o modelo**"
      ],
      "metadata": {
        "id": "wlQ610I9jnDJ"
      }
    },
    {
      "cell_type": "code",
      "source": [
        "avaliar_algoritmo(y_test,previsoes)"
      ],
      "metadata": {
        "id": "pOxABLRGjlsg"
      },
      "execution_count": null,
      "outputs": []
    },
    {
      "cell_type": "markdown",
      "source": [
        "# **PYCARET**"
      ],
      "metadata": {
        "id": "Cyc0iAfsjviC"
      }
    },
    {
      "cell_type": "markdown",
      "source": [
        "**Instalar o pycaret**"
      ],
      "metadata": {
        "id": "M4Gr4sGhjxm_"
      }
    },
    {
      "cell_type": "code",
      "source": [
        "!pip install -q pycaret #==2.3.6"
      ],
      "metadata": {
        "id": "pVkrgMHqj4SJ"
      },
      "execution_count": null,
      "outputs": []
    },
    {
      "cell_type": "code",
      "source": [
        "#print('Pycaret:',pycaret.__version__)\n",
        "#print('Scikit:',sklearn.__version__)"
      ],
      "metadata": {
        "id": "r4XoDf83xsgR"
      },
      "execution_count": null,
      "outputs": []
    },
    {
      "cell_type": "code",
      "source": [
        "#!pip install scikit-learn==0.23.2"
      ],
      "metadata": {
        "id": "2eyiwN2mwrLE"
      },
      "execution_count": null,
      "outputs": []
    },
    {
      "cell_type": "markdown",
      "source": [
        "**Importar a biblioteca para tarefa de classificação**"
      ],
      "metadata": {
        "id": "040IfHW1j3Dw"
      }
    },
    {
      "cell_type": "code",
      "source": [
        "from pycaret.classification import *"
      ],
      "metadata": {
        "id": "omAaVdz-j-yd"
      },
      "execution_count": null,
      "outputs": []
    },
    {
      "cell_type": "code",
      "source": [
        "#X_over.Education.unique()\n",
        "X_over.GenHlth.unique() "
      ],
      "metadata": {
        "id": "FGHerIx5tdmr"
      },
      "execution_count": null,
      "outputs": []
    },
    {
      "cell_type": "markdown",
      "source": [
        "**Configurar as técnicas de pré-processamento dos dados**"
      ],
      "metadata": {
        "id": "fWp2lut5kGdP"
      }
    },
    {
      "cell_type": "markdown",
      "source": [
        "Experimento 1"
      ],
      "metadata": {
        "id": "Kgxrle2OkSNA"
      }
    },
    {
      "cell_type": "code",
      "source": [
        "#Usando SMOTE\n",
        "clf_diabetes=setup(data=pd.concat([X_over,y_over],axis=1),\n",
        "                   target='Diabetes_012',\n",
        "                   numeric_features=['BMI','Age','Income','PhysHlth','GenHlth','HighBP','Fruits','Smoker','Education'],\n",
        "                   high_cardinality_features=['MentHlth'],\n",
        "                   use_gpu=True,\n",
        "                   normalize=True,\n",
        "                   session_id=123\n",
        "                   )"
      ],
      "metadata": {
        "id": "RfWSwqIDkBHq"
      },
      "execution_count": null,
      "outputs": []
    },
    {
      "cell_type": "markdown",
      "source": [
        "Exeperimento 2"
      ],
      "metadata": {
        "id": "JoIHwmockYf6"
      }
    },
    {
      "cell_type": "code",
      "source": [
        "X_over['GenHlth']=X_over['GenHlth'].astype('category')"
      ],
      "metadata": {
        "id": "mHwM0uiiuOhM"
      },
      "execution_count": null,
      "outputs": []
    },
    {
      "cell_type": "code",
      "source": [
        "#Usando o SMOTE\n",
        "clf_diabetes=setup(data=pd.concat([X_over,y_over],axis=1),#pd.concat([df_diabetes[colunas],df_diabetes['Diabetes_012']],axis=1),\n",
        "                   target='Diabetes_012',\n",
        "                   numeric_features=['BMI','Age','Income'],\n",
        "                   categorical_features=['PhysHlth','HighBP','Fruits','Smoker'],\n",
        "                   ordinal_features={'Education':[1,2,3,4,5,6],'GenHlth':[1,2,3,4,5]},\n",
        "                   high_cardinality_features=['MentHlth'],\n",
        "                   use_gpu=True,\n",
        "                   normalize=True,\n",
        "                   session_id=123#,\n",
        "                   #fix_imbalance=True#, fix_imbalance_method='SMOTE' #adasyn1\n",
        "                   )\n",
        "#GenHlth: estado de saude: 1- excelente e 5 - ruim\n",
        "#PhysHlth: nos ultimos 30 dias quantos dias tive problemas\n",
        "#DiffWalk: dificuldades de subir escadas\n",
        "#Stoke: ja teve derrame\n",
        "#Age:1 = 18-24, 9 = 60-64, 13 = 80 ou mais "
      ],
      "metadata": {
        "id": "zy_iIZ_XkbFw"
      },
      "execution_count": null,
      "outputs": []
    },
    {
      "cell_type": "markdown",
      "source": [
        "**Visualizar os dados transformados**"
      ],
      "metadata": {
        "id": "rviuvnskkidZ"
      }
    },
    {
      "cell_type": "code",
      "source": [
        "get_config(\"X_train\").head()"
      ],
      "metadata": {
        "id": "7_a9gpt7kjB1"
      },
      "execution_count": null,
      "outputs": []
    },
    {
      "cell_type": "markdown",
      "source": [
        "**Escolher o melhor algoritmo**"
      ],
      "metadata": {
        "id": "zHcaL9yPklTG"
      }
    },
    {
      "cell_type": "code",
      "source": [
        "best_model=compare_models(include=['lightgbm','lr','svm','knn','rf'],fold=5)\n",
        "#best1_model=compare_models(fold=3)"
      ],
      "metadata": {
        "id": "yENtiNKzkrgZ"
      },
      "execution_count": null,
      "outputs": []
    },
    {
      "cell_type": "markdown",
      "source": [
        "**Criar o modelo**"
      ],
      "metadata": {
        "id": "uoLFbKa4kt1b"
      }
    },
    {
      "cell_type": "code",
      "source": [
        "modelo = create_model('rf',fold=5)"
      ],
      "metadata": {
        "id": "OtrKwCzvk1_M"
      },
      "execution_count": null,
      "outputs": []
    },
    {
      "cell_type": "markdown",
      "source": [
        "Experimento 1: **RF 84.70% --> 84.82 depois do tunning**\n",
        "\n",
        "Experimento 2: **RF 84.41%**"
      ],
      "metadata": {
        "id": "YpsK3EeMk4U4"
      }
    },
    {
      "cell_type": "markdown",
      "source": [
        "**Optimizar o modelo**"
      ],
      "metadata": {
        "id": "KVjqDa96k7cB"
      }
    },
    {
      "cell_type": "code",
      "source": [
        "params_rf={\n",
        "    'n_estimators': [100, 250],\n",
        "    'max_depth': [ 2, 4, 6,None]\n",
        "}\n",
        "\n",
        "params_svm={\n",
        "    'kernel': ['poly', 'rbf'],\n",
        "    'C': [ 1, 0.5, 5]\n",
        "}\n"
      ],
      "metadata": {
        "id": "ZxqCD3b0lC_D"
      },
      "execution_count": null,
      "outputs": []
    },
    {
      "cell_type": "code",
      "source": [
        "#Visualizar os paramteros do modelo\n",
        "#modelo.get_params().keys()\n",
        "best_model.get_params().keys()"
      ],
      "metadata": {
        "id": "JNbVqKe14ps0"
      },
      "execution_count": null,
      "outputs": []
    },
    {
      "cell_type": "code",
      "source": [
        ""
      ],
      "metadata": {
        "id": "w_Ne6wrn47za"
      },
      "execution_count": null,
      "outputs": []
    },
    {
      "cell_type": "code",
      "source": [
        "modelo_optimizado=tune_model(best_model,fold=5,custom_grid=params_rf)\n",
        "#modelo_optimizado=tune_model(modelo,fold=5,custom_grid=params_svm)"
      ],
      "metadata": {
        "id": "_n32V-wflN9t"
      },
      "execution_count": null,
      "outputs": []
    },
    {
      "cell_type": "markdown",
      "source": [
        "**Efectuar previsões**"
      ],
      "metadata": {
        "id": "MZrsC6JdlR8x"
      }
    },
    {
      "cell_type": "code",
      "source": [
        "#del best_model"
      ],
      "metadata": {
        "id": "B3k1f4YgxlFy"
      },
      "execution_count": null,
      "outputs": []
    },
    {
      "cell_type": "code",
      "source": [
        "#Prever usando a porcao de testes\n",
        "predict_model(modelo_optimizado)"
      ],
      "metadata": {
        "id": "9PnCtYmplUwl"
      },
      "execution_count": null,
      "outputs": []
    },
    {
      "cell_type": "markdown",
      "source": [
        "**Finalizar o modelo (treinar o modelo com todos os dados disponíveis)**"
      ],
      "metadata": {
        "id": "hx1f3HSmxsoD"
      }
    },
    {
      "cell_type": "code",
      "source": [
        "modelo_final=finalize_model(modelo_optimizado)"
      ],
      "metadata": {
        "id": "orZPI51txv2r"
      },
      "execution_count": null,
      "outputs": []
    },
    {
      "cell_type": "code",
      "source": [
        "#del modelo_optimizado\n",
        "modelo_final"
      ],
      "metadata": {
        "id": "M6uoNh1PzNRJ"
      },
      "execution_count": null,
      "outputs": []
    },
    {
      "cell_type": "markdown",
      "source": [
        "**Visualizar a acurácia, o erro, matriz de confusão e classification report**"
      ],
      "metadata": {
        "id": "w1ONQEpelcuv"
      }
    },
    {
      "cell_type": "code",
      "source": [
        "#evaluate_model(modelo_final)\n",
        "evaluate_model(best_model)"
      ],
      "metadata": {
        "id": "zETwsQKelk7E"
      },
      "execution_count": null,
      "outputs": []
    },
    {
      "cell_type": "markdown",
      "source": [
        "**Visualizar o erro**"
      ],
      "metadata": {
        "id": "WVPJAbEGrTBU"
      }
    },
    {
      "cell_type": "code",
      "source": [
        "#plot_model(modelo_final, plot = 'error')\n",
        "plot_model(best_model, plot = 'auc')"
      ],
      "metadata": {
        "id": "Q7NA_waWrViq"
      },
      "execution_count": null,
      "outputs": []
    },
    {
      "cell_type": "markdown",
      "source": [
        "**Matriz de confusão**"
      ],
      "metadata": {
        "id": "psle9caIrZaO"
      }
    },
    {
      "cell_type": "code",
      "source": [
        "#plot_model(modelo_final, plot = 'confusion_matrix')\n",
        "plot_model(best_model, plot = 'confusion_matrix')"
      ],
      "metadata": {
        "id": "N1E5RSn1rfUz"
      },
      "execution_count": null,
      "outputs": []
    },
    {
      "cell_type": "markdown",
      "source": [
        "**Report Classification (precision e recall)**"
      ],
      "metadata": {
        "id": "xhj_DT7krf6x"
      }
    },
    {
      "cell_type": "code",
      "source": [
        "#plot_model(modelo_final, plot = 'class_report')\n",
        "plot_model(best_model, plot = 'class_report')"
      ],
      "metadata": {
        "id": "xWU8VGQ1riji"
      },
      "execution_count": null,
      "outputs": []
    },
    {
      "cell_type": "markdown",
      "source": [
        "**Salvar o modelo em disco**"
      ],
      "metadata": {
        "id": "Zff4UhALrq9X"
      }
    },
    {
      "cell_type": "code",
      "source": [
        "#save_model(modelo_final,'RF_model_diabetes.pkl')\n",
        "save_model(best_model,'RF_model_diabetes')"
      ],
      "metadata": {
        "id": "3GoF6iQBrtog"
      },
      "execution_count": null,
      "outputs": []
    },
    {
      "cell_type": "markdown",
      "source": [
        "**Copiar o modelo salvo para o bucket do GCP**"
      ],
      "metadata": {
        "id": "dIsZpiqWw9uj"
      }
    },
    {
      "cell_type": "code",
      "source": [
        "!gsutil -m cp -r /content/RF_model_diabetes.pkl gs://bucket-diabetes-ml/"
      ],
      "metadata": {
        "id": "RiWfF9UyxDo3"
      },
      "execution_count": null,
      "outputs": []
    },
    {
      "cell_type": "markdown",
      "source": [
        "**Listar os arquivos do bucket-diabetes-ml do GCP**"
      ],
      "metadata": {
        "id": "g8S_7QdcxOFq"
      }
    },
    {
      "cell_type": "code",
      "source": [
        "!gsutil ls gs://bucket-diabetes-ml/ "
      ],
      "metadata": {
        "id": "AkG3rlbexUDZ"
      },
      "execution_count": null,
      "outputs": []
    },
    {
      "cell_type": "markdown",
      "source": [
        "# **App Streamlit**"
      ],
      "metadata": {
        "id": "4WG8Dkbb7MV1"
      }
    },
    {
      "cell_type": "code",
      "source": [
        "#Escrever o conteudo da celula no ficheiro app.py\n",
        "%%writefile app.py\n",
        "import streamlit as st\n",
        "import pandas as pd\n",
        "\n",
        "st.title('App para Previsao de Diabetes')\n",
        "\n",
        "st.set_page_config(page_title=\"Formulário de Diagnóstico\",\n",
        "                   page_icon=\":bar_chart:\")#, layout='wide')\n",
        "\n",
        "education_list = ('Não frequentou ou apenas o jardim', \n",
        "        'Ensino Fundamental', \n",
        "        'Ensino Medio Incompleto',\n",
        "        'Ensino Medio Completo',\n",
        "        'Ensino Superior Incompleto',\n",
        "        'Ensino Superior Completo')\n",
        "\n",
        "genhlt_list = ('Excelente', 'Muito Bom', 'Bom', 'Regular', 'Ruim')\n",
        "\n",
        "yes_or_no =  ('Não', 'Sim')\n",
        "\n",
        "st.title(\":bar_chart: Formulário\")\n",
        "\n",
        "with st.form(\"my_form\"):\n",
        "\n",
        "    name_val = st.text_input('Seu Nome')\n",
        "    left_column, right_column = st.columns(2)\n",
        "\n",
        "    with left_column:\n",
        "        weight = st.number_input('Peso', value=1)\n",
        "        smoker = st.selectbox('Fumante', yes_or_no)\n",
        "        age = st.number_input('Idade')\n",
        "        education = st.selectbox('Qual o seu nivel de escolaridade?', education_list)\n",
        "        physhlt = st.slider('Em quantos dias a sua saúde física não foi boa', 0, 30, 1)\n",
        "        submitted = st.form_submit_button(\"Enviar\")\n",
        "\n",
        "    with right_column:\n",
        "        height = st.number_input('Altura', value=1)\n",
        "        highbp = st.selectbox('Pressão Alta', yes_or_no)\n",
        "        fruits = st.selectbox('Come fruta regularmente?', yes_or_no)\n",
        "        income = st.number_input('Salario (Bruto em conjunto)')\n",
        "        genhlt = st.selectbox('Como você avalia sua saúde geral?', genhlt_list)\n",
        "        menthlt = st.slider('Em quantos dias a sua saúde mental não foi boa', 0, 30, 1)\n",
        "\n",
        "#Tratamento das variáveis\n",
        "def return_dict(list_elements):\n",
        "    return {item: i+1 for i, item in enumerate(list_elements)}\n",
        "\n",
        "dict_yes_or_no = return_dict(yes_or_no)\n",
        "dict_education = return_dict(education_list[::-1])\n",
        "dict_genhlt    = return_dict(genhlt_list[::-1])\n",
        "\n",
        "#Tratamento dos dados recebidos\n",
        "bmi = round(weight / (height ** 2))\n",
        "\n",
        "#Pelo laço começar pelo 1\n",
        "smoker = dict_yes_or_no[smoker] - 1\n",
        "highbp = dict_yes_or_no[highbp] - 1\n",
        "fruits = dict_yes_or_no[fruits] - 1\n",
        "\n",
        "education = dict_education[education]\n",
        "genhlt = dict_genhlt[genhlt]\n",
        "\n",
        "if submitted:\n",
        "    columns = ['BMI','Age','Income','PhysHlth', 'Education', 'GenHlth', 'MentHlth', 'HighBP', 'Fruits', 'Smoker']\n",
        "    input = [[bmi, int(age), income, physhlt, education, genhlt, menthlt, highbp, fruits, smoker]]\n",
        "    data = pd.DataFrame(data=input, columns=columns)\n",
        "    st.write(data.head())"
      ],
      "metadata": {
        "id": "R5gke3Ct7Wo3"
      },
      "execution_count": null,
      "outputs": []
    },
    {
      "cell_type": "code",
      "source": [
        "!pip install streamlit --quiet\n",
        "!pip install pyngrok==4.1.1 --quiet\n",
        "from pyngrok import ngrok"
      ],
      "metadata": {
        "id": "h3ItMjim8NB2"
      },
      "execution_count": null,
      "outputs": []
    },
    {
      "cell_type": "code",
      "source": [
        "!ngrok authtoken 23zrNwvWBSQ2HOnIKrOO3k9q3X9_4Ea7Jk86ZHEppJH8hNVQz"
      ],
      "metadata": {
        "id": "fuOjxmiaFM99"
      },
      "execution_count": null,
      "outputs": []
    },
    {
      "cell_type": "code",
      "source": [
        "!cat /root/.ngrok2/ngrok.yml"
      ],
      "metadata": {
        "id": "5RR7KNN-FmYU"
      },
      "execution_count": null,
      "outputs": []
    },
    {
      "cell_type": "code",
      "source": [
        "!nohup streamlit run app.py & \n",
        "url = ngrok.connect(port = '8080')\n",
        "print(url)"
      ],
      "metadata": {
        "id": "mP16VdVy8gza"
      },
      "execution_count": null,
      "outputs": []
    }
  ]
}